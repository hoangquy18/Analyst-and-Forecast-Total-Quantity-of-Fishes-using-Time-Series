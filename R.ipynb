{
 "cells": [
  {
   "cell_type": "code",
   "execution_count": 1,
   "metadata": {
    "vscode": {
     "languageId": "r"
    }
   },
   "outputs": [],
   "source": [
    "data <- read.csv(\"sea.csv\")"
   ]
  },
  {
   "cell_type": "code",
   "execution_count": 2,
   "metadata": {
    "vscode": {
     "languageId": "r"
    }
   },
   "outputs": [
    {
     "data": {
      "text/html": [
       "<table class=\"dataframe\">\n",
       "<caption>A data.frame: 26 × 5</caption>\n",
       "<thead>\n",
       "\t<tr><th scope=col>Nam</th><th scope=col>ChiSoPhatTrien</th><th scope=col>DienTichNuoiTrong</th><th scope=col>SoTauKhaiThacBien</th><th scope=col>TongSanLuong</th></tr>\n",
       "\t<tr><th scope=col>&lt;int&gt;</th><th scope=col>&lt;dbl&gt;</th><th scope=col>&lt;dbl&gt;</th><th scope=col>&lt;int&gt;</th><th scope=col>&lt;dbl&gt;</th></tr>\n",
       "</thead>\n",
       "<tbody>\n",
       "\t<tr><td>1995</td><td>108.2</td><td> 453.6</td><td> 95700</td><td>1584.4</td></tr>\n",
       "\t<tr><td>1996</td><td>107.4</td><td> 498.7</td><td> 97700</td><td>1701.0</td></tr>\n",
       "\t<tr><td>1997</td><td>101.7</td><td> 504.1</td><td> 71500</td><td>1730.4</td></tr>\n",
       "\t<tr><td>1998</td><td>103.0</td><td> 524.5</td><td> 71799</td><td>1782.0</td></tr>\n",
       "\t<tr><td>1999</td><td>112.6</td><td> 524.6</td><td> 73397</td><td>2006.8</td></tr>\n",
       "\t<tr><td>2000</td><td>112.1</td><td> 641.9</td><td> 79768</td><td>2250.9</td></tr>\n",
       "\t<tr><td>2001</td><td>108.2</td><td> 755.2</td><td> 78978</td><td>2435.1</td></tr>\n",
       "\t<tr><td>2002</td><td>108.7</td><td> 797.7</td><td> 81800</td><td>2647.9</td></tr>\n",
       "\t<tr><td>2003</td><td>108.0</td><td> 867.6</td><td> 83122</td><td>2859.8</td></tr>\n",
       "\t<tr><td>2004</td><td>109.9</td><td> 920.1</td><td> 85430</td><td>3143.2</td></tr>\n",
       "\t<tr><td>2005</td><td>110.3</td><td> 952.6</td><td> 90880</td><td>3466.8</td></tr>\n",
       "\t<tr><td>2006</td><td>107.3</td><td> 976.5</td><td>    NA</td><td>3721.6</td></tr>\n",
       "\t<tr><td>2007</td><td>112.8</td><td>1018.8</td><td> 85758</td><td>4199.1</td></tr>\n",
       "\t<tr><td>2008</td><td>109.6</td><td>1052.6</td><td>123000</td><td>4602.0</td></tr>\n",
       "\t<tr><td>2009</td><td>105.8</td><td>1044.7</td><td>    NA</td><td>4870.3</td></tr>\n",
       "\t<tr><td>2010</td><td>105.6</td><td>1052.6</td><td>129000</td><td>5142.7</td></tr>\n",
       "\t<tr><td>2011</td><td>105.9</td><td>1040.5</td><td>128000</td><td>5447.4</td></tr>\n",
       "\t<tr><td>2012</td><td>106.9</td><td>1038.9</td><td>125000</td><td>5820.7</td></tr>\n",
       "\t<tr><td>2013</td><td>103.4</td><td>1046.4</td><td>124411</td><td>6019.7</td></tr>\n",
       "\t<tr><td>2014</td><td>105.2</td><td>1056.3</td><td>    NA</td><td>6333.2</td></tr>\n",
       "\t<tr><td>2015</td><td>103.9</td><td>1057.3</td><td>    NA</td><td>6582.1</td></tr>\n",
       "\t<tr><td>2016</td><td>104.4</td><td>1072.8</td><td>109762</td><td>6870.7</td></tr>\n",
       "\t<tr><td>2017</td><td>106.4</td><td>1106.8</td><td>110950</td><td>7313.4</td></tr>\n",
       "\t<tr><td>2018</td><td>106.2</td><td>1126.7</td><td>    NA</td><td>7769.1</td></tr>\n",
       "\t<tr><td>2019</td><td>106.4</td><td>1147.8</td><td>    NA</td><td>8270.2</td></tr>\n",
       "\t<tr><td>2020</td><td>102.7</td><td>1130.5</td><td>130000</td><td>8497.2</td></tr>\n",
       "</tbody>\n",
       "</table>\n"
      ],
      "text/latex": [
       "A data.frame: 26 × 5\n",
       "\\begin{tabular}{lllll}\n",
       " Nam & ChiSoPhatTrien & DienTichNuoiTrong & SoTauKhaiThacBien & TongSanLuong\\\\\n",
       " <int> & <dbl> & <dbl> & <int> & <dbl>\\\\\n",
       "\\hline\n",
       "\t 1995 & 108.2 &  453.6 &  95700 & 1584.4\\\\\n",
       "\t 1996 & 107.4 &  498.7 &  97700 & 1701.0\\\\\n",
       "\t 1997 & 101.7 &  504.1 &  71500 & 1730.4\\\\\n",
       "\t 1998 & 103.0 &  524.5 &  71799 & 1782.0\\\\\n",
       "\t 1999 & 112.6 &  524.6 &  73397 & 2006.8\\\\\n",
       "\t 2000 & 112.1 &  641.9 &  79768 & 2250.9\\\\\n",
       "\t 2001 & 108.2 &  755.2 &  78978 & 2435.1\\\\\n",
       "\t 2002 & 108.7 &  797.7 &  81800 & 2647.9\\\\\n",
       "\t 2003 & 108.0 &  867.6 &  83122 & 2859.8\\\\\n",
       "\t 2004 & 109.9 &  920.1 &  85430 & 3143.2\\\\\n",
       "\t 2005 & 110.3 &  952.6 &  90880 & 3466.8\\\\\n",
       "\t 2006 & 107.3 &  976.5 &     NA & 3721.6\\\\\n",
       "\t 2007 & 112.8 & 1018.8 &  85758 & 4199.1\\\\\n",
       "\t 2008 & 109.6 & 1052.6 & 123000 & 4602.0\\\\\n",
       "\t 2009 & 105.8 & 1044.7 &     NA & 4870.3\\\\\n",
       "\t 2010 & 105.6 & 1052.6 & 129000 & 5142.7\\\\\n",
       "\t 2011 & 105.9 & 1040.5 & 128000 & 5447.4\\\\\n",
       "\t 2012 & 106.9 & 1038.9 & 125000 & 5820.7\\\\\n",
       "\t 2013 & 103.4 & 1046.4 & 124411 & 6019.7\\\\\n",
       "\t 2014 & 105.2 & 1056.3 &     NA & 6333.2\\\\\n",
       "\t 2015 & 103.9 & 1057.3 &     NA & 6582.1\\\\\n",
       "\t 2016 & 104.4 & 1072.8 & 109762 & 6870.7\\\\\n",
       "\t 2017 & 106.4 & 1106.8 & 110950 & 7313.4\\\\\n",
       "\t 2018 & 106.2 & 1126.7 &     NA & 7769.1\\\\\n",
       "\t 2019 & 106.4 & 1147.8 &     NA & 8270.2\\\\\n",
       "\t 2020 & 102.7 & 1130.5 & 130000 & 8497.2\\\\\n",
       "\\end{tabular}\n"
      ],
      "text/markdown": [
       "\n",
       "A data.frame: 26 × 5\n",
       "\n",
       "| Nam &lt;int&gt; | ChiSoPhatTrien &lt;dbl&gt; | DienTichNuoiTrong &lt;dbl&gt; | SoTauKhaiThacBien &lt;int&gt; | TongSanLuong &lt;dbl&gt; |\n",
       "|---|---|---|---|---|\n",
       "| 1995 | 108.2 |  453.6 |  95700 | 1584.4 |\n",
       "| 1996 | 107.4 |  498.7 |  97700 | 1701.0 |\n",
       "| 1997 | 101.7 |  504.1 |  71500 | 1730.4 |\n",
       "| 1998 | 103.0 |  524.5 |  71799 | 1782.0 |\n",
       "| 1999 | 112.6 |  524.6 |  73397 | 2006.8 |\n",
       "| 2000 | 112.1 |  641.9 |  79768 | 2250.9 |\n",
       "| 2001 | 108.2 |  755.2 |  78978 | 2435.1 |\n",
       "| 2002 | 108.7 |  797.7 |  81800 | 2647.9 |\n",
       "| 2003 | 108.0 |  867.6 |  83122 | 2859.8 |\n",
       "| 2004 | 109.9 |  920.1 |  85430 | 3143.2 |\n",
       "| 2005 | 110.3 |  952.6 |  90880 | 3466.8 |\n",
       "| 2006 | 107.3 |  976.5 |     NA | 3721.6 |\n",
       "| 2007 | 112.8 | 1018.8 |  85758 | 4199.1 |\n",
       "| 2008 | 109.6 | 1052.6 | 123000 | 4602.0 |\n",
       "| 2009 | 105.8 | 1044.7 |     NA | 4870.3 |\n",
       "| 2010 | 105.6 | 1052.6 | 129000 | 5142.7 |\n",
       "| 2011 | 105.9 | 1040.5 | 128000 | 5447.4 |\n",
       "| 2012 | 106.9 | 1038.9 | 125000 | 5820.7 |\n",
       "| 2013 | 103.4 | 1046.4 | 124411 | 6019.7 |\n",
       "| 2014 | 105.2 | 1056.3 |     NA | 6333.2 |\n",
       "| 2015 | 103.9 | 1057.3 |     NA | 6582.1 |\n",
       "| 2016 | 104.4 | 1072.8 | 109762 | 6870.7 |\n",
       "| 2017 | 106.4 | 1106.8 | 110950 | 7313.4 |\n",
       "| 2018 | 106.2 | 1126.7 |     NA | 7769.1 |\n",
       "| 2019 | 106.4 | 1147.8 |     NA | 8270.2 |\n",
       "| 2020 | 102.7 | 1130.5 | 130000 | 8497.2 |\n",
       "\n"
      ],
      "text/plain": [
       "   Nam  ChiSoPhatTrien DienTichNuoiTrong SoTauKhaiThacBien TongSanLuong\n",
       "1  1995 108.2           453.6             95700            1584.4      \n",
       "2  1996 107.4           498.7             97700            1701.0      \n",
       "3  1997 101.7           504.1             71500            1730.4      \n",
       "4  1998 103.0           524.5             71799            1782.0      \n",
       "5  1999 112.6           524.6             73397            2006.8      \n",
       "6  2000 112.1           641.9             79768            2250.9      \n",
       "7  2001 108.2           755.2             78978            2435.1      \n",
       "8  2002 108.7           797.7             81800            2647.9      \n",
       "9  2003 108.0           867.6             83122            2859.8      \n",
       "10 2004 109.9           920.1             85430            3143.2      \n",
       "11 2005 110.3           952.6             90880            3466.8      \n",
       "12 2006 107.3           976.5                NA            3721.6      \n",
       "13 2007 112.8          1018.8             85758            4199.1      \n",
       "14 2008 109.6          1052.6            123000            4602.0      \n",
       "15 2009 105.8          1044.7                NA            4870.3      \n",
       "16 2010 105.6          1052.6            129000            5142.7      \n",
       "17 2011 105.9          1040.5            128000            5447.4      \n",
       "18 2012 106.9          1038.9            125000            5820.7      \n",
       "19 2013 103.4          1046.4            124411            6019.7      \n",
       "20 2014 105.2          1056.3                NA            6333.2      \n",
       "21 2015 103.9          1057.3                NA            6582.1      \n",
       "22 2016 104.4          1072.8            109762            6870.7      \n",
       "23 2017 106.4          1106.8            110950            7313.4      \n",
       "24 2018 106.2          1126.7                NA            7769.1      \n",
       "25 2019 106.4          1147.8                NA            8270.2      \n",
       "26 2020 102.7          1130.5            130000            8497.2      "
      ]
     },
     "metadata": {},
     "output_type": "display_data"
    }
   ],
   "source": [
    "data"
   ]
  },
  {
   "cell_type": "markdown",
   "metadata": {},
   "source": [
    "# Phân tích phương sai các ảnh hưởng "
   ]
  },
  {
   "cell_type": "markdown",
   "metadata": {},
   "source": [
    "## Không có sự tương tác lẫn nhau giữa các thuộc tính"
   ]
  },
  {
   "cell_type": "code",
   "execution_count": 3,
   "metadata": {
    "vscode": {
     "languageId": "r"
    }
   },
   "outputs": [],
   "source": [
    "av <- aov(data = data,TongSanLuong ~ Nam)"
   ]
  },
  {
   "cell_type": "code",
   "execution_count": 4,
   "metadata": {
    "vscode": {
     "languageId": "r"
    }
   },
   "outputs": [
    {
     "data": {
      "text/plain": [
       "            Df    Sum Sq   Mean Sq F value Pr(>F)    \n",
       "Nam          1 122415863 122415863    1577 <2e-16 ***\n",
       "Residuals   24   1863112     77630                   \n",
       "---\n",
       "Signif. codes:  0 '***' 0.001 '**' 0.01 '*' 0.05 '.' 0.1 ' ' 1"
      ]
     },
     "metadata": {},
     "output_type": "display_data"
    }
   ],
   "source": [
    "summary(av)"
   ]
  },
  {
   "cell_type": "markdown",
   "metadata": {},
   "source": [
    "Từ bảng trên ta thấy P-value của ChiSoPhatTrien có giá trị 0.00076, DienTichNuoiTrong là 5e-8 > 0.05. Vậy chấp nhận giả thuyết H1 là 2 thuộc tính ChiSoPhatTrien, DienTichNuoiTrong có ảnh hưởng lên TongSanLuong"
   ]
  },
  {
   "cell_type": "markdown",
   "metadata": {},
   "source": [
    "Ngược lại, P-value của SoTauKhaiThacBien có giá trị 0.103 > 0.05. Vậy chấp nhận giả thuyết H0 là thuộc tính SoTauKhaiThacBien không ảnh hưởng lên TongSanLuong"
   ]
  },
  {
   "cell_type": "markdown",
   "metadata": {},
   "source": [
    "## Có sự tương tác lẫn nhau giữa các thuộc tính"
   ]
  },
  {
   "cell_type": "code",
   "execution_count": 7,
   "metadata": {
    "vscode": {
     "languageId": "r"
    }
   },
   "outputs": [
    {
     "data": {
      "text/plain": [
       "\n",
       "Call:\n",
       "lm(formula = TongSanLuong ~ Nam, data = data)\n",
       "\n",
       "Residuals:\n",
       "    Min      1Q  Median      3Q     Max \n",
       "-347.03 -141.91  -67.04   53.70  698.23 \n",
       "\n",
       "Coefficients:\n",
       "              Estimate Std. Error t value Pr(>|t|)    \n",
       "(Intercept) -5.763e+05  1.463e+04  -39.40   <2e-16 ***\n",
       "Nam          2.893e+02  7.286e+00   39.71   <2e-16 ***\n",
       "---\n",
       "Signif. codes:  0 '***' 0.001 '**' 0.01 '*' 0.05 '.' 0.1 ' ' 1\n",
       "\n",
       "Residual standard error: 278.6 on 24 degrees of freedom\n",
       "Multiple R-squared:  0.985,\tAdjusted R-squared:  0.9844 \n",
       "F-statistic:  1577 on 1 and 24 DF,  p-value: < 2.2e-16\n"
      ]
     },
     "metadata": {},
     "output_type": "display_data"
    }
   ],
   "source": [
    "l <- lm(TongSanLuong~Nam,data = data)\n",
    "summary(l)"
   ]
  },
  {
   "cell_type": "code",
   "execution_count": 2,
   "metadata": {
    "vscode": {
     "languageId": "r"
    }
   },
   "outputs": [
    {
     "name": "stderr",
     "output_type": "stream",
     "text": [
      "Installing package into 'C:/Users/quypr/OneDrive/Documents/R/win-library/4.1'\n",
      "(as 'lib' is unspecified)\n",
      "\n"
     ]
    },
    {
     "name": "stdout",
     "output_type": "stream",
     "text": [
      "package 'urca' successfully unpacked and MD5 sums checked\n",
      "\n",
      "The downloaded binary packages are in\n",
      "\tC:\\Users\\quypr\\AppData\\Local\\Temp\\RtmpA7nLEY\\downloaded_packages\n"
     ]
    }
   ],
   "source": [
    "install.packages(\"urca\")"
   ]
  },
  {
   "cell_type": "code",
   "execution_count": 20,
   "metadata": {
    "vscode": {
     "languageId": "r"
    }
   },
   "outputs": [],
   "source": [
    "library(\"urca\")\n"
   ]
  },
  {
   "cell_type": "code",
   "execution_count": 45,
   "metadata": {
    "vscode": {
     "languageId": "r"
    }
   },
   "outputs": [],
   "source": [
    "data <- read.csv(\"sea.csv\")"
   ]
  },
  {
   "cell_type": "code",
   "execution_count": 46,
   "metadata": {
    "vscode": {
     "languageId": "r"
    }
   },
   "outputs": [
    {
     "data": {
      "text/html": [
       "<table class=\"dataframe\">\n",
       "<caption>A data.frame: 26 × 5</caption>\n",
       "<thead>\n",
       "\t<tr><th scope=col>Nam</th><th scope=col>ChiSoPhatTrien</th><th scope=col>DienTichNuoiTrong</th><th scope=col>SoTauKhaiThacBien</th><th scope=col>TongSanLuong</th></tr>\n",
       "\t<tr><th scope=col>&lt;int&gt;</th><th scope=col>&lt;dbl&gt;</th><th scope=col>&lt;dbl&gt;</th><th scope=col>&lt;int&gt;</th><th scope=col>&lt;dbl&gt;</th></tr>\n",
       "</thead>\n",
       "<tbody>\n",
       "\t<tr><td>1995</td><td>108.2</td><td> 453.6</td><td> 95700</td><td>1584.4</td></tr>\n",
       "\t<tr><td>1996</td><td>107.4</td><td> 498.7</td><td> 97700</td><td>1701.0</td></tr>\n",
       "\t<tr><td>1997</td><td>101.7</td><td> 504.1</td><td> 71500</td><td>1730.4</td></tr>\n",
       "\t<tr><td>1998</td><td>103.0</td><td> 524.5</td><td> 71799</td><td>1782.0</td></tr>\n",
       "\t<tr><td>1999</td><td>112.6</td><td> 524.6</td><td> 73397</td><td>2006.8</td></tr>\n",
       "\t<tr><td>2000</td><td>112.1</td><td> 641.9</td><td> 79768</td><td>2250.9</td></tr>\n",
       "\t<tr><td>2001</td><td>108.2</td><td> 755.2</td><td> 78978</td><td>2435.1</td></tr>\n",
       "\t<tr><td>2002</td><td>108.7</td><td> 797.7</td><td> 81800</td><td>2647.9</td></tr>\n",
       "\t<tr><td>2003</td><td>108.0</td><td> 867.6</td><td> 83122</td><td>2859.8</td></tr>\n",
       "\t<tr><td>2004</td><td>109.9</td><td> 920.1</td><td> 85430</td><td>3143.2</td></tr>\n",
       "\t<tr><td>2005</td><td>110.3</td><td> 952.6</td><td> 90880</td><td>3466.8</td></tr>\n",
       "\t<tr><td>2006</td><td>107.3</td><td> 976.5</td><td>    NA</td><td>3721.6</td></tr>\n",
       "\t<tr><td>2007</td><td>112.8</td><td>1018.8</td><td> 85758</td><td>4199.1</td></tr>\n",
       "\t<tr><td>2008</td><td>109.6</td><td>1052.6</td><td>123000</td><td>4602.0</td></tr>\n",
       "\t<tr><td>2009</td><td>105.8</td><td>1044.7</td><td>    NA</td><td>4870.3</td></tr>\n",
       "\t<tr><td>2010</td><td>105.6</td><td>1052.6</td><td>129000</td><td>5142.7</td></tr>\n",
       "\t<tr><td>2011</td><td>105.9</td><td>1040.5</td><td>128000</td><td>5447.4</td></tr>\n",
       "\t<tr><td>2012</td><td>106.9</td><td>1038.9</td><td>125000</td><td>5820.7</td></tr>\n",
       "\t<tr><td>2013</td><td>103.4</td><td>1046.4</td><td>124411</td><td>6019.7</td></tr>\n",
       "\t<tr><td>2014</td><td>105.2</td><td>1056.3</td><td>    NA</td><td>6333.2</td></tr>\n",
       "\t<tr><td>2015</td><td>103.9</td><td>1057.3</td><td>    NA</td><td>6582.1</td></tr>\n",
       "\t<tr><td>2016</td><td>104.4</td><td>1072.8</td><td>109762</td><td>6870.7</td></tr>\n",
       "\t<tr><td>2017</td><td>106.4</td><td>1106.8</td><td>110950</td><td>7313.4</td></tr>\n",
       "\t<tr><td>2018</td><td>106.2</td><td>1126.7</td><td>    NA</td><td>7769.1</td></tr>\n",
       "\t<tr><td>2019</td><td>106.4</td><td>1147.8</td><td>    NA</td><td>8270.2</td></tr>\n",
       "\t<tr><td>2020</td><td>102.7</td><td>1130.5</td><td>130000</td><td>8497.2</td></tr>\n",
       "</tbody>\n",
       "</table>\n"
      ],
      "text/latex": [
       "A data.frame: 26 × 5\n",
       "\\begin{tabular}{lllll}\n",
       " Nam & ChiSoPhatTrien & DienTichNuoiTrong & SoTauKhaiThacBien & TongSanLuong\\\\\n",
       " <int> & <dbl> & <dbl> & <int> & <dbl>\\\\\n",
       "\\hline\n",
       "\t 1995 & 108.2 &  453.6 &  95700 & 1584.4\\\\\n",
       "\t 1996 & 107.4 &  498.7 &  97700 & 1701.0\\\\\n",
       "\t 1997 & 101.7 &  504.1 &  71500 & 1730.4\\\\\n",
       "\t 1998 & 103.0 &  524.5 &  71799 & 1782.0\\\\\n",
       "\t 1999 & 112.6 &  524.6 &  73397 & 2006.8\\\\\n",
       "\t 2000 & 112.1 &  641.9 &  79768 & 2250.9\\\\\n",
       "\t 2001 & 108.2 &  755.2 &  78978 & 2435.1\\\\\n",
       "\t 2002 & 108.7 &  797.7 &  81800 & 2647.9\\\\\n",
       "\t 2003 & 108.0 &  867.6 &  83122 & 2859.8\\\\\n",
       "\t 2004 & 109.9 &  920.1 &  85430 & 3143.2\\\\\n",
       "\t 2005 & 110.3 &  952.6 &  90880 & 3466.8\\\\\n",
       "\t 2006 & 107.3 &  976.5 &     NA & 3721.6\\\\\n",
       "\t 2007 & 112.8 & 1018.8 &  85758 & 4199.1\\\\\n",
       "\t 2008 & 109.6 & 1052.6 & 123000 & 4602.0\\\\\n",
       "\t 2009 & 105.8 & 1044.7 &     NA & 4870.3\\\\\n",
       "\t 2010 & 105.6 & 1052.6 & 129000 & 5142.7\\\\\n",
       "\t 2011 & 105.9 & 1040.5 & 128000 & 5447.4\\\\\n",
       "\t 2012 & 106.9 & 1038.9 & 125000 & 5820.7\\\\\n",
       "\t 2013 & 103.4 & 1046.4 & 124411 & 6019.7\\\\\n",
       "\t 2014 & 105.2 & 1056.3 &     NA & 6333.2\\\\\n",
       "\t 2015 & 103.9 & 1057.3 &     NA & 6582.1\\\\\n",
       "\t 2016 & 104.4 & 1072.8 & 109762 & 6870.7\\\\\n",
       "\t 2017 & 106.4 & 1106.8 & 110950 & 7313.4\\\\\n",
       "\t 2018 & 106.2 & 1126.7 &     NA & 7769.1\\\\\n",
       "\t 2019 & 106.4 & 1147.8 &     NA & 8270.2\\\\\n",
       "\t 2020 & 102.7 & 1130.5 & 130000 & 8497.2\\\\\n",
       "\\end{tabular}\n"
      ],
      "text/markdown": [
       "\n",
       "A data.frame: 26 × 5\n",
       "\n",
       "| Nam &lt;int&gt; | ChiSoPhatTrien &lt;dbl&gt; | DienTichNuoiTrong &lt;dbl&gt; | SoTauKhaiThacBien &lt;int&gt; | TongSanLuong &lt;dbl&gt; |\n",
       "|---|---|---|---|---|\n",
       "| 1995 | 108.2 |  453.6 |  95700 | 1584.4 |\n",
       "| 1996 | 107.4 |  498.7 |  97700 | 1701.0 |\n",
       "| 1997 | 101.7 |  504.1 |  71500 | 1730.4 |\n",
       "| 1998 | 103.0 |  524.5 |  71799 | 1782.0 |\n",
       "| 1999 | 112.6 |  524.6 |  73397 | 2006.8 |\n",
       "| 2000 | 112.1 |  641.9 |  79768 | 2250.9 |\n",
       "| 2001 | 108.2 |  755.2 |  78978 | 2435.1 |\n",
       "| 2002 | 108.7 |  797.7 |  81800 | 2647.9 |\n",
       "| 2003 | 108.0 |  867.6 |  83122 | 2859.8 |\n",
       "| 2004 | 109.9 |  920.1 |  85430 | 3143.2 |\n",
       "| 2005 | 110.3 |  952.6 |  90880 | 3466.8 |\n",
       "| 2006 | 107.3 |  976.5 |     NA | 3721.6 |\n",
       "| 2007 | 112.8 | 1018.8 |  85758 | 4199.1 |\n",
       "| 2008 | 109.6 | 1052.6 | 123000 | 4602.0 |\n",
       "| 2009 | 105.8 | 1044.7 |     NA | 4870.3 |\n",
       "| 2010 | 105.6 | 1052.6 | 129000 | 5142.7 |\n",
       "| 2011 | 105.9 | 1040.5 | 128000 | 5447.4 |\n",
       "| 2012 | 106.9 | 1038.9 | 125000 | 5820.7 |\n",
       "| 2013 | 103.4 | 1046.4 | 124411 | 6019.7 |\n",
       "| 2014 | 105.2 | 1056.3 |     NA | 6333.2 |\n",
       "| 2015 | 103.9 | 1057.3 |     NA | 6582.1 |\n",
       "| 2016 | 104.4 | 1072.8 | 109762 | 6870.7 |\n",
       "| 2017 | 106.4 | 1106.8 | 110950 | 7313.4 |\n",
       "| 2018 | 106.2 | 1126.7 |     NA | 7769.1 |\n",
       "| 2019 | 106.4 | 1147.8 |     NA | 8270.2 |\n",
       "| 2020 | 102.7 | 1130.5 | 130000 | 8497.2 |\n",
       "\n"
      ],
      "text/plain": [
       "   Nam  ChiSoPhatTrien DienTichNuoiTrong SoTauKhaiThacBien TongSanLuong\n",
       "1  1995 108.2           453.6             95700            1584.4      \n",
       "2  1996 107.4           498.7             97700            1701.0      \n",
       "3  1997 101.7           504.1             71500            1730.4      \n",
       "4  1998 103.0           524.5             71799            1782.0      \n",
       "5  1999 112.6           524.6             73397            2006.8      \n",
       "6  2000 112.1           641.9             79768            2250.9      \n",
       "7  2001 108.2           755.2             78978            2435.1      \n",
       "8  2002 108.7           797.7             81800            2647.9      \n",
       "9  2003 108.0           867.6             83122            2859.8      \n",
       "10 2004 109.9           920.1             85430            3143.2      \n",
       "11 2005 110.3           952.6             90880            3466.8      \n",
       "12 2006 107.3           976.5                NA            3721.6      \n",
       "13 2007 112.8          1018.8             85758            4199.1      \n",
       "14 2008 109.6          1052.6            123000            4602.0      \n",
       "15 2009 105.8          1044.7                NA            4870.3      \n",
       "16 2010 105.6          1052.6            129000            5142.7      \n",
       "17 2011 105.9          1040.5            128000            5447.4      \n",
       "18 2012 106.9          1038.9            125000            5820.7      \n",
       "19 2013 103.4          1046.4            124411            6019.7      \n",
       "20 2014 105.2          1056.3                NA            6333.2      \n",
       "21 2015 103.9          1057.3                NA            6582.1      \n",
       "22 2016 104.4          1072.8            109762            6870.7      \n",
       "23 2017 106.4          1106.8            110950            7313.4      \n",
       "24 2018 106.2          1126.7                NA            7769.1      \n",
       "25 2019 106.4          1147.8                NA            8270.2      \n",
       "26 2020 102.7          1130.5            130000            8497.2      "
      ]
     },
     "metadata": {},
     "output_type": "display_data"
    }
   ],
   "source": [
    "data"
   ]
  },
  {
   "cell_type": "code",
   "execution_count": 47,
   "metadata": {
    "vscode": {
     "languageId": "r"
    }
   },
   "outputs": [
    {
     "name": "stdout",
     "output_type": "stream",
     "text": [
      "\n",
      "###################### \n",
      "# Johansen-Procedure # \n",
      "###################### \n",
      "\n",
      "Test type: trace statistic , with linear trend \n",
      "\n",
      "Eigenvalues (lambda):\n",
      "[1] 0.9894513655 0.9508523098 0.7648142053 0.4893497961 0.0002241543\n",
      "\n",
      "Values of teststatistic and critical values of test:\n",
      "\n",
      "           test 10pct  5pct  1pct\n",
      "r <= 4 |   0.00  6.50  8.18 11.65\n",
      "r <= 3 |  12.10 15.66 17.95 23.52\n",
      "r <= 2 |  38.15 28.71 31.52 37.22\n",
      "r <= 1 |  92.39 45.23 48.28 55.43\n",
      "r = 0  | 174.32 66.49 70.60 78.87\n",
      "\n",
      "Eigenvectors, normalised to first column:\n",
      "(These are the cointegration relations)\n",
      "\n",
      "                            Nam.l2 ChiSoPhatTrien.l2 DienTichNuoiTrong.l2\n",
      "Nam.l2                1.000000e+00      1.000000e+00         1.0000000000\n",
      "ChiSoPhatTrien.l2    -2.883373e-01      4.162542e-01         0.8385498169\n",
      "DienTichNuoiTrong.l2 -4.909066e-03     -8.383389e-03        -0.0181830920\n",
      "SoTauKhaiThacBien.l2  4.698184e-05     -5.047045e-05         0.0001424523\n",
      "TongSanLuong.l2      -4.077180e-03     -2.046692e-03        -0.0031088595\n",
      "                     SoTauKhaiThacBien.l2 TongSanLuong.l2\n",
      "Nam.l2                       1.000000e+00    1.000000e+00\n",
      "ChiSoPhatTrien.l2            3.962018e-01   -2.205042e-01\n",
      "DienTichNuoiTrong.l2         3.531759e-03   -1.018439e-02\n",
      "SoTauKhaiThacBien.l2         9.369193e-05    3.481533e-05\n",
      "TongSanLuong.l2             -2.740314e-03   -3.242936e-03\n",
      "\n",
      "Weights W:\n",
      "(This is the loading matrix)\n",
      "\n",
      "                         Nam.l2 ChiSoPhatTrien.l2 DienTichNuoiTrong.l2\n",
      "Nam.d                 -1.338419         0.2317625           -0.1272392\n",
      "ChiSoPhatTrien.d       4.035698         0.9508380           -1.0881153\n",
      "DienTichNuoiTrong.d   -7.513813        33.9657064            4.4294155\n",
      "SoTauKhaiThacBien.d 6732.883150      4050.5453285        -1825.8212045\n",
      "TongSanLuong.d      -414.395637        93.6680012          -70.6706950\n",
      "                    SoTauKhaiThacBien.l2 TongSanLuong.l2\n",
      "Nam.d                       5.812468e-02    -0.001766513\n",
      "ChiSoPhatTrien.d            2.799902e-01    -0.008771415\n",
      "DienTichNuoiTrong.d         2.960319e+00     0.012708380\n",
      "SoTauKhaiThacBien.d        -3.289115e+03    22.641580603\n",
      "TongSanLuong.d              3.079606e+01     1.239724787\n",
      "\n"
     ]
    }
   ],
   "source": [
    "jotest <- ca.jo(data.frame(data), type=\"trace\", K=2, ecdet=\"none\", spec=\"longrun\")\n",
    "print(summary(jotest))\n"
   ]
  }
 ],
 "metadata": {
  "kernelspec": {
   "display_name": "R",
   "language": "R",
   "name": "ir"
  },
  "language_info": {
   "codemirror_mode": "r",
   "file_extension": ".r",
   "mimetype": "text/x-r-source",
   "name": "R",
   "pygments_lexer": "r",
   "version": "4.1.3"
  },
  "orig_nbformat": 4
 },
 "nbformat": 4,
 "nbformat_minor": 2
}
